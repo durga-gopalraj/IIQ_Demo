{
 "cells": [
  {
   "cell_type": "markdown",
   "id": "ad54db43",
   "metadata": {},
   "source": [
    "# Single linked list insertion operation"
   ]
  },
  {
   "cell_type": "code",
   "execution_count": 2,
   "id": "b80522ae",
   "metadata": {},
   "outputs": [
    {
     "name": "stdout",
     "output_type": "stream",
     "text": [
      "5 --> 10 --> 20 --> 30 --> 35 --> 40 --> "
     ]
    }
   ],
   "source": [
    "class Node:\n",
    "    def __init__(self,data):\n",
    "        self.data=data\n",
    "        self.next=None\n",
    "class Single:\n",
    "    def __init__(self):\n",
    "        self.head=None\n",
    "        \n",
    "    \n",
    "    def insert_begin(self,data):\n",
    "        nb=Node(data)\n",
    "        nb.next=self.head\n",
    "        self.head=nb\n",
    "        \n",
    "    def insert_end(self,data):\n",
    "        ne=Node(data)\n",
    "        temp=self.head\n",
    "        while temp.next:\n",
    "            temp=temp.next\n",
    "        temp.next=ne \n",
    "        \n",
    "    def insert_pos(self,data,pos):\n",
    "        np=Node(data)\n",
    "        temp=self.head\n",
    "        for i in range(pos-1): #traverse upto 3rd position\n",
    "            temp=temp.next\n",
    "        np.data=data\n",
    "        np.next=temp.next\n",
    "        temp.next=np     \n",
    "        \n",
    "    def display(self):\n",
    "        if self.head is None:\n",
    "            print(\"Linked list is empty\")\n",
    "        else:\n",
    "            temp=self.head\n",
    "            while temp:\n",
    "                print(temp.data,\"-->\",end=\" \")\n",
    "                temp=temp.next\n",
    "\n",
    "L=Single()\n",
    "n1=Node(10)\n",
    "L.head=n1\n",
    "n2=Node(20)\n",
    "n1.next=n2\n",
    "n3=Node(30)\n",
    "n2.next=n3\n",
    "\n",
    "\n",
    "L.insert_begin(5)\n",
    "\n",
    "L.insert_end(40)\n",
    "\n",
    "L.insert_pos(35,4)\n",
    "L.display()\n"
   ]
  },
  {
   "cell_type": "markdown",
   "id": "1e5d4752",
   "metadata": {},
   "source": [
    "# single linked list delete operation "
   ]
  },
  {
   "cell_type": "code",
   "execution_count": 3,
   "id": "d3779530",
   "metadata": {},
   "outputs": [
    {
     "name": "stdout",
     "output_type": "stream",
     "text": [
      "20 --> 30 --> 40 --> 50 --> "
     ]
    }
   ],
   "source": [
    "class Node:\n",
    "    def __init__(self,data):\n",
    "        self.data=data\n",
    "        self.next=None\n",
    "class Single:\n",
    "    def __init__(self):\n",
    "        self.head=None\n",
    "    \n",
    "    def display(self):\n",
    "        if self.head is None:\n",
    "            print(\"Linked list is empty\")\n",
    "        else:\n",
    "            temp=self.head\n",
    "            while temp:\n",
    "                print(temp.data,\"-->\",end=\" \")\n",
    "                temp=temp.next\n",
    "\n",
    "    def del_begin(self):\n",
    "        temp=self.head\n",
    "        self.head=temp.next\n",
    "        temp.next=None\n",
    "    \n",
    "    def del_end(self):\n",
    "        temp=self.head.next\n",
    "        prev=self.head\n",
    "        while temp.next is not None:\n",
    "            temp=temp.next\n",
    "            prev=prev.next\n",
    "        prev.next=None\n",
    "    \n",
    "    def del_pos(self,pos):\n",
    "        temp=self.head.next\n",
    "        prev=self.head\n",
    "        for i in range(1,pos-1):\n",
    "            temp=temp.next\n",
    "            prev=prev.next\n",
    "        prev.next=temp.next\n",
    "        temp.next=None\n",
    "    \n",
    "L=Single()\n",
    "n1=Node(10)\n",
    "L.head=n1\n",
    "n2=Node(20)\n",
    "n1.next=n2\n",
    "n3=Node(30)\n",
    "n2.next=n3\n",
    "n4=Node(40)\n",
    "n3.next=n4\n",
    "n5=Node(50)\n",
    "n4.next=n5\n",
    "\n",
    "L.del_begin()\n",
    "\n",
    "L.display()\n",
    "     "
   ]
  },
  {
   "cell_type": "code",
   "execution_count": 4,
   "id": "82d3a76b",
   "metadata": {},
   "outputs": [
    {
     "name": "stdout",
     "output_type": "stream",
     "text": [
      "20 --> 30 --> 40 --> "
     ]
    }
   ],
   "source": [
    "#deletion at end\n",
    "L.del_end()\n",
    "\n",
    "L.display()"
   ]
  },
  {
   "cell_type": "code",
   "execution_count": 5,
   "id": "4625798e",
   "metadata": {},
   "outputs": [
    {
     "name": "stdout",
     "output_type": "stream",
     "text": [
      "20 --> 30 --> "
     ]
    }
   ],
   "source": [
    "#deletion at a position\n",
    "L.del_pos(3)\n",
    "\n",
    "L.display()"
   ]
  },
  {
   "cell_type": "code",
   "execution_count": null,
   "id": "c8054de0",
   "metadata": {},
   "outputs": [],
   "source": []
  }
 ],
 "metadata": {
  "kernelspec": {
   "display_name": "Python 3",
   "language": "python",
   "name": "python3"
  },
  "language_info": {
   "codemirror_mode": {
    "name": "ipython",
    "version": 3
   },
   "file_extension": ".py",
   "mimetype": "text/x-python",
   "name": "python",
   "nbconvert_exporter": "python",
   "pygments_lexer": "ipython3",
   "version": "3.8.8"
  }
 },
 "nbformat": 4,
 "nbformat_minor": 5
}
